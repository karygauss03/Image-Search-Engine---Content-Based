{
 "cells": [
  {
   "cell_type": "markdown",
   "id": "0d401c22",
   "metadata": {},
   "source": [
    "# Library import"
   ]
  },
  {
   "cell_type": "code",
   "execution_count": 34,
   "id": "76d36ec9",
   "metadata": {},
   "outputs": [],
   "source": [
    "from PIL import Image\n",
    "from feature_extractor import FeatureExtractor\n",
    "from pathlib import Path\n",
    "import numpy as np\n",
    "from elasticsearch import Elasticsearch\n",
    "from os import listdir\n",
    "from os.path import isfile, join\n",
    "import argparse\n",
    "import json"
   ]
  },
  {
   "cell_type": "code",
   "execution_count": 20,
   "id": "95f98b59",
   "metadata": {},
   "outputs": [],
   "source": [
    "es = Elasticsearch([{'host': 'localhost', 'port': 9200, 'scheme': 'http'}])"
   ]
  },
  {
   "cell_type": "code",
   "execution_count": 21,
   "id": "bf783995",
   "metadata": {},
   "outputs": [
    {
     "name": "stderr",
     "output_type": "stream",
     "text": [
      "C:\\Users\\KaryGauss\\AppData\\Local\\Temp\\ipykernel_16676\\1636688961.py:1: DeprecationWarning: Passing transport options in the API method is deprecated. Use 'Elasticsearch.options()' instead.\n",
      "  es.cluster.health(wait_for_status='yellow', request_timeout=1)\n",
      "C:\\Users\\KaryGauss\\AppData\\Local\\Temp\\ipykernel_16676\\1636688961.py:1: ElasticsearchWarning: Elasticsearch built-in security features are not enabled. Without authentication, your cluster could be accessible to anyone. See https://www.elastic.co/guide/en/elasticsearch/reference/7.17/security-minimal-setup.html to enable security.\n",
      "  es.cluster.health(wait_for_status='yellow', request_timeout=1)\n"
     ]
    },
    {
     "data": {
      "text/plain": [
       "ObjectApiResponse({'cluster_name': 'elasticsearch', 'status': 'yellow', 'timed_out': False, 'number_of_nodes': 1, 'number_of_data_nodes': 1, 'active_primary_shards': 14, 'active_shards': 14, 'relocating_shards': 0, 'initializing_shards': 0, 'unassigned_shards': 1, 'delayed_unassigned_shards': 0, 'number_of_pending_tasks': 0, 'number_of_in_flight_fetch': 0, 'task_max_waiting_in_queue_millis': 0, 'active_shards_percent_as_number': 93.33333333333333})"
      ]
     },
     "execution_count": 21,
     "metadata": {},
     "output_type": "execute_result"
    }
   ],
   "source": [
    "es.cluster.health(wait_for_status='yellow', request_timeout=1)"
   ]
  },
  {
   "cell_type": "markdown",
   "id": "c9c0a75f",
   "metadata": {},
   "source": [
    "# Creating a new index"
   ]
  },
  {
   "cell_type": "code",
   "execution_count": 25,
   "id": "93a6bfd4",
   "metadata": {},
   "outputs": [],
   "source": [
    "index = 'content-images'"
   ]
  },
  {
   "cell_type": "code",
   "execution_count": 41,
   "id": "85f7cef8",
   "metadata": {},
   "outputs": [
    {
     "name": "stderr",
     "output_type": "stream",
     "text": [
      "C:\\Users\\KaryGauss\\AppData\\Local\\Temp\\ipykernel_16676\\4094657150.py:1: ElasticsearchWarning: Elasticsearch built-in security features are not enabled. Without authentication, your cluster could be accessible to anyone. See https://www.elastic.co/guide/en/elasticsearch/reference/7.17/security-minimal-setup.html to enable security.\n",
      "  es.options(ignore_status = [400, 404]).indices.delete(index = index)\n"
     ]
    },
    {
     "data": {
      "text/plain": [
       "ObjectApiResponse({'acknowledged': True})"
      ]
     },
     "execution_count": 41,
     "metadata": {},
     "output_type": "execute_result"
    }
   ],
   "source": [
    "es.options(ignore_status = [400, 404]).indices.delete(index = index)"
   ]
  },
  {
   "cell_type": "code",
   "execution_count": 42,
   "id": "b05b9d32",
   "metadata": {},
   "outputs": [
    {
     "name": "stderr",
     "output_type": "stream",
     "text": [
      "C:\\Users\\KaryGauss\\AppData\\Local\\Temp\\ipykernel_16676\\3608685668.py:18: DeprecationWarning: Passing transport options in the API method is deprecated. Use 'Elasticsearch.options()' instead.\n",
      "  created_index = es.indices.create(\n",
      "C:\\Users\\KaryGauss\\AppData\\Local\\Temp\\ipykernel_16676\\3608685668.py:18: DeprecationWarning: The 'body' parameter is deprecated and will be removed in a future version. Instead use individual parameters.\n",
      "  created_index = es.indices.create(\n",
      "C:\\Users\\KaryGauss\\AppData\\Local\\Temp\\ipykernel_16676\\3608685668.py:18: ElasticsearchWarning: Elasticsearch built-in security features are not enabled. Without authentication, your cluster could be accessible to anyone. See https://www.elastic.co/guide/en/elasticsearch/reference/7.17/security-minimal-setup.html to enable security.\n",
      "  created_index = es.indices.create(\n"
     ]
    }
   ],
   "source": [
    "settings = {\n",
    "  \"settings\": {\n",
    "    \"number_of_shards\": 1,\n",
    "    \"number_of_replicas\": 0\n",
    "  }\n",
    "}\n",
    "\n",
    "mapping = {\n",
    "  \"obj\": {\n",
    "      \"properties\": {\n",
    "          \"raw_data\" : { \"type\": \"string\"},\n",
    "          \"image_path\": { \"type\": \"string\", \"index\": \"not_analyzed\"}\n",
    "      }\n",
    "  }\n",
    "    \n",
    "}\n",
    "\n",
    "created_index = es.indices.create(\n",
    "    index = index,\n",
    "    body = settings,\n",
    "    ignore = 400\n",
    ")"
   ]
  },
  {
   "cell_type": "code",
   "execution_count": null,
   "id": "7667ccea",
   "metadata": {},
   "outputs": [],
   "source": []
  }
 ],
 "metadata": {
  "kernelspec": {
   "display_name": "venv",
   "language": "python",
   "name": "venv"
  },
  "language_info": {
   "codemirror_mode": {
    "name": "ipython",
    "version": 3
   },
   "file_extension": ".py",
   "mimetype": "text/x-python",
   "name": "python",
   "nbconvert_exporter": "python",
   "pygments_lexer": "ipython3",
   "version": "3.10.7"
  },
  "vscode": {
   "interpreter": {
    "hash": "0fc6e3d2d3dd2bb6f4ed8dc47cf3fd886852a2129eef611fdf18c83591fe3737"
   }
  }
 },
 "nbformat": 4,
 "nbformat_minor": 5
}
