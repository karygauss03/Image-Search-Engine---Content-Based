{
 "cells": [
  {
   "cell_type": "code",
   "execution_count": 1,
   "id": "480171e4",
   "metadata": {},
   "outputs": [],
   "source": [
    "from PIL import Image\n",
    "from feature_extractor import FeatureExtractor\n",
    "from pathlib import Path\n",
    "import numpy as np\n",
    "from elasticsearch import Elasticsearch\n",
    "from os import listdir\n",
    "from os.path import isfile, join\n",
    "import argparse\n",
    "import json\n",
    "import pathlib"
   ]
  },
  {
   "cell_type": "code",
   "execution_count": 2,
   "id": "49bd44cb",
   "metadata": {},
   "outputs": [],
   "source": [
    "es = Elasticsearch([{'host': 'localhost', 'port': 9200, 'scheme': 'http'}])"
   ]
  },
  {
   "cell_type": "code",
   "execution_count": 3,
   "id": "d622ab08",
   "metadata": {},
   "outputs": [
    {
     "name": "stderr",
     "output_type": "stream",
     "text": [
      "C:\\Users\\KaryGauss\\AppData\\Local\\Temp\\ipykernel_15644\\1636688961.py:1: DeprecationWarning: Passing transport options in the API method is deprecated. Use 'Elasticsearch.options()' instead.\n",
      "  es.cluster.health(wait_for_status='yellow', request_timeout=1)\n",
      "C:\\Users\\KaryGauss\\AppData\\Local\\Temp\\ipykernel_15644\\1636688961.py:1: ElasticsearchWarning: Elasticsearch built-in security features are not enabled. Without authentication, your cluster could be accessible to anyone. See https://www.elastic.co/guide/en/elasticsearch/reference/7.17/security-minimal-setup.html to enable security.\n",
      "  es.cluster.health(wait_for_status='yellow', request_timeout=1)\n"
     ]
    },
    {
     "data": {
      "text/plain": [
       "ObjectApiResponse({'cluster_name': 'elasticsearch', 'status': 'yellow', 'timed_out': False, 'number_of_nodes': 1, 'number_of_data_nodes': 1, 'active_primary_shards': 15, 'active_shards': 15, 'relocating_shards': 0, 'initializing_shards': 0, 'unassigned_shards': 1, 'delayed_unassigned_shards': 0, 'number_of_pending_tasks': 0, 'number_of_in_flight_fetch': 0, 'task_max_waiting_in_queue_millis': 0, 'active_shards_percent_as_number': 93.75})"
      ]
     },
     "execution_count": 3,
     "metadata": {},
     "output_type": "execute_result"
    }
   ],
   "source": [
    "es.cluster.health(wait_for_status='yellow', request_timeout=1)"
   ]
  },
  {
   "cell_type": "code",
   "execution_count": 4,
   "id": "13e7de5c",
   "metadata": {},
   "outputs": [],
   "source": [
    "index = 'content-images'\n",
    "source_no_vecs = ['raw_data', 'image_path']"
   ]
  },
  {
   "cell_type": "code",
   "execution_count": 5,
   "id": "a298fd91",
   "metadata": {},
   "outputs": [],
   "source": [
    "def display_hits(res):\n",
    "    print(f\"Found {res['hits']['total']['value']} hits in {res['took']} ms. Showing top {len(res['hits']['hits'])}.\")\n",
    "    print(\"\")\n",
    "    for hit in res['hits']['hits']:\n",
    "        s = hit['_source']\n",
    "        print(f\"Title   {s.get('title', None)}\")\n",
    "        if 'tags' in s:\n",
    "            desc = str(s.get('tags', None))\n",
    "            print(f\"Desc    {desc[:80] + ('...' if len(desc) > 80 else '')}\")\n",
    "        if 'price' in s:\n",
    "            print(f\"Labels   {s['labels']}\")\n",
    "        print(f\"ID      {s.get('imageId', None)}\")\n",
    "        print(f\"Score   {hit.get('_score', None)}\")\n",
    "        display(Image(s.get(\"imgUrl\"), width=128))\n",
    "        print(\"\")"
   ]
  },
  {
   "cell_type": "code",
   "execution_count": 19,
   "id": "8c3d9695",
   "metadata": {},
   "outputs": [],
   "source": [
    "def search_by_image_query(image_id=None, feature_vector=None,size=5):\n",
    "    if image_id==None and feature_vector==None:\n",
    "        raise ValueError(\"Please enter an Image ID or a Feature Vector\")\n",
    "    \n",
    "#     if image_id:\n",
    "#         query = {\n",
    "#             \"elastiknn_nearest_neighbors\": {\n",
    "#               \"vec\": {\n",
    "#                 \"index\": index,\n",
    "#                 \"field\": \"featureVec\",\n",
    "#                 \"id\": image_id\n",
    "#               },\n",
    "#               \"field\": \"featureVec\",\n",
    "#               \"model\": \"lsh\",\n",
    "#               \"similarity\": \"l2\",\n",
    "#               \"candidates\": 100\n",
    "#             }\n",
    "#           }\n",
    "#     elif feature_vector:\n",
    "    query = {\n",
    "        \"elastiknn_nearest_neighbors\": {\n",
    "          \"vec\": {\n",
    "            \"values\": feature_vector\n",
    "          },\n",
    "          \"field\": \"raw_data\",\n",
    "          \"model\": \"lsh\",\n",
    "          \"similarity\": \"l2\",\n",
    "          \"candidates\": 150\n",
    "        }\n",
    "      }\n",
    "    \n",
    "    res = es.search(index=index, query=query, size=size, _source=source_no_vecs)\n",
    "    display_hits(res)"
   ]
  },
  {
   "cell_type": "code",
   "execution_count": 7,
   "id": "f8275e66",
   "metadata": {},
   "outputs": [],
   "source": [
    "fe = FeatureExtractor()"
   ]
  },
  {
   "cell_type": "code",
   "execution_count": 8,
   "id": "fde7cd26",
   "metadata": {},
   "outputs": [],
   "source": [
    "img = Image.open(\"C:/Users/KaryGauss/Downloads/640px-Ryanair.arp.750pix.jpg\")"
   ]
  },
  {
   "cell_type": "code",
   "execution_count": 9,
   "id": "b34b2c5a",
   "metadata": {},
   "outputs": [
    {
     "name": "stdout",
     "output_type": "stream",
     "text": [
      "1/1 [==============================] - 1s 854ms/step\n"
     ]
    }
   ],
   "source": [
    "features = fe.extract(img)"
   ]
  },
  {
   "cell_type": "code",
   "execution_count": 56,
   "id": "396b6bfe",
   "metadata": {},
   "outputs": [],
   "source": [
    "QUERY = \"\"\"\n",
    "{\n",
    "\"_source\": [\"image_path\", \"raw_data\"],\n",
    "\"query\": {\n",
    "  \"function_score\" : {\n",
    "    \"query\" : {\n",
    "      \"match_all\" : {\n",
    "        \"boost\" : 1.0\n",
    "      }\n",
    "    },\n",
    "    \"functions\" : [\n",
    "      {\n",
    "        \"filter\" : {\n",
    "          \"match_all\" : {\n",
    "            \"boost\" : 1.0\n",
    "          }\n",
    "        },\n",
    "        \"script_score\" : {\n",
    "          \"script\" : {\n",
    "            \"inline\" : \"hamming_score\",\n",
    "            \"lang\" : \"native\",\n",
    "            \"params\" : {\n",
    "              \"f\" : \"raw_data\",\n",
    "              \"fea\" : [##fea##],\n",
    "              \"verbose\" : true\n",
    "            }\n",
    "          }\n",
    "        }\n",
    "      }\n",
    "    ],\n",
    "    \"score_mode\" : \"sum\",\n",
    "    \"boost_mode\" : \"replace\",\n",
    "    \"max_boost\" : 3.4028235E38,\n",
    "    \"boost\" : 1.0\n",
    "  }\n",
    "}\n",
    "}\n",
    "\"\"\""
   ]
  },
  {
   "cell_type": "code",
   "execution_count": 77,
   "id": "fee78a4d",
   "metadata": {
    "scrolled": true
   },
   "outputs": [
    {
     "name": "stdout",
     "output_type": "stream",
     "text": [
      "\n",
      "{ \n",
      "    \"query\": {\n",
      "  \"function_score\" : {\n",
      "    \"query\" : {\n",
      "      \"match_all\" : {\n",
      "        \"boost\" : 1.0\n",
      "      }\n",
      "    },\n",
      "    \"functions\" : [\n",
      "      {\n",
      "        \"filter\" : {\n",
      "          \"match_all\" : {\n",
      "            \"boost\" : 1.0\n",
      "          }\n",
      "        },\n",
      "        \"script_score\" : {\n",
      "          \"script\" : {\n",
      "            \"inline\" : \"hamming_score\",\n",
      "            \"lang\" : \"native\",\n",
      "            \"params\" : {\n",
      "              \"f\" : \"raw_data\",\n",
      "              \"fea\" : [0.06408552 0.         0.         ... 0.         0.         0.        ],\n",
      "              \"verbose\" : True\n",
      "            }\n",
      "          }\n",
      "        }\n",
      "      }\n",
      "    ],\n",
      "    \"score_mode\" : \"sum\",\n",
      "    \"boost_mode\" : \"replace\",\n",
      "    \"max_boost\" : 3.4028235E38,\n",
      "    \"boost\" : 1.0\n",
      "  }\n",
      "}\n",
      "}\n",
      "\n"
     ]
    }
   ],
   "source": [
    "str_feat = str(features)\n",
    "query = query2.replace('##fea##', str_feat[1:len(str_feat) - 1])\n",
    "\n",
    "print(query)"
   ]
  },
  {
   "cell_type": "code",
   "execution_count": 78,
   "id": "ba5f2a22",
   "metadata": {},
   "outputs": [],
   "source": [
    "query2 = \"\"\"\n",
    "{ \n",
    "    \"query\": {\n",
    "  \"function_score\" : {\n",
    "    \"query\" : {\n",
    "      \"match_all\" : {\n",
    "        \"boost\" : 1.0\n",
    "      }\n",
    "    },\n",
    "    \"functions\" : [\n",
    "      {\n",
    "        \"filter\" : {\n",
    "          \"match_all\" : {\n",
    "            \"boost\" : 1.0\n",
    "          }\n",
    "        },\n",
    "        \"script_score\" : {\n",
    "          \"script\" : {\n",
    "            \"inline\" : \"hamming_score\",\n",
    "            \"lang\" : \"native\",\n",
    "            \"params\" : {\n",
    "              \"f\" : \"raw_data\",\n",
    "              \"fea\" : [##fea##],\n",
    "              \"verbose\" : True\n",
    "            }\n",
    "          }\n",
    "        }\n",
    "      }\n",
    "    ],\n",
    "    \"score_mode\" : \"sum\",\n",
    "    \"boost_mode\" : \"replace\",\n",
    "    \"max_boost\" : 3.4028235E38,\n",
    "    \"boost\" : 1.0\n",
    "  }\n",
    "}\n",
    "}\n",
    "\"\"\""
   ]
  },
  {
   "cell_type": "code",
   "execution_count": 79,
   "id": "05fee816",
   "metadata": {},
   "outputs": [],
   "source": [
    "body = {\n",
    "    \"query\": {\n",
    "        \"hnsw\": {\n",
    "            \"raw_data\": {\n",
    "                \"string\": str(features),\n",
    "                \"size\": 5,\n",
    "                \"ef\": 10\n",
    "            }\n",
    "        }\n",
    "    },\n",
    "    \"_source\": {\"includes\": [\"image_path\"]},\n",
    "    \"from\": 0,\n",
    "    \"size\": 40\n",
    "}"
   ]
  },
  {
   "cell_type": "code",
   "execution_count": 81,
   "id": "1cf56582",
   "metadata": {},
   "outputs": [
    {
     "name": "stderr",
     "output_type": "stream",
     "text": [
      "C:\\Users\\KaryGauss\\AppData\\Local\\Temp\\ipykernel_15644\\3270713796.py:1: DeprecationWarning: The 'body' parameter is deprecated and will be removed in a future version. Instead use individual parameters.\n",
      "  result = es.search(index=index, body = body)\n"
     ]
    },
    {
     "ename": "BadRequestError",
     "evalue": "BadRequestError(400, 'parsing_exception', 'unknown query [hnsw]')",
     "output_type": "error",
     "traceback": [
      "\u001b[1;31m---------------------------------------------------------------------------\u001b[0m",
      "\u001b[1;31mBadRequestError\u001b[0m                           Traceback (most recent call last)",
      "Cell \u001b[1;32mIn [81], line 1\u001b[0m\n\u001b[1;32m----> 1\u001b[0m result \u001b[38;5;241m=\u001b[39m \u001b[43mes\u001b[49m\u001b[38;5;241;43m.\u001b[39;49m\u001b[43msearch\u001b[49m\u001b[43m(\u001b[49m\u001b[43mindex\u001b[49m\u001b[38;5;241;43m=\u001b[39;49m\u001b[43mindex\u001b[49m\u001b[43m,\u001b[49m\u001b[43m \u001b[49m\u001b[43mbody\u001b[49m\u001b[43m \u001b[49m\u001b[38;5;241;43m=\u001b[39;49m\u001b[43m \u001b[49m\u001b[43mbody\u001b[49m\u001b[43m)\u001b[49m\n",
      "File \u001b[1;32m~\\Desktop\\INDP3 AIM\\Tebourbi\\Image-Search-Engine---Content-Based\\venv\\lib\\site-packages\\elasticsearch\\_sync\\client\\utils.py:414\u001b[0m, in \u001b[0;36m_rewrite_parameters.<locals>.wrapper.<locals>.wrapped\u001b[1;34m(*args, **kwargs)\u001b[0m\n\u001b[0;32m    411\u001b[0m         \u001b[38;5;28;01mexcept\u001b[39;00m \u001b[38;5;167;01mKeyError\u001b[39;00m:\n\u001b[0;32m    412\u001b[0m             \u001b[38;5;28;01mpass\u001b[39;00m\n\u001b[1;32m--> 414\u001b[0m \u001b[38;5;28;01mreturn\u001b[39;00m api(\u001b[38;5;241m*\u001b[39margs, \u001b[38;5;241m*\u001b[39m\u001b[38;5;241m*\u001b[39mkwargs)\n",
      "File \u001b[1;32m~\\Desktop\\INDP3 AIM\\Tebourbi\\Image-Search-Engine---Content-Based\\venv\\lib\\site-packages\\elasticsearch\\_sync\\client\\__init__.py:3770\u001b[0m, in \u001b[0;36mElasticsearch.search\u001b[1;34m(self, index, aggregations, aggs, allow_no_indices, allow_partial_search_results, analyze_wildcard, analyzer, batched_reduce_size, ccs_minimize_roundtrips, collapse, default_operator, df, docvalue_fields, error_trace, expand_wildcards, explain, ext, fields, filter_path, from_, highlight, human, ignore_throttled, ignore_unavailable, indices_boost, knn, lenient, max_concurrent_shard_requests, min_compatible_shard_node, min_score, pit, post_filter, pre_filter_shard_size, preference, pretty, profile, q, query, request_cache, rescore, rest_total_hits_as_int, routing, runtime_mappings, script_fields, scroll, search_after, search_type, seq_no_primary_term, size, slice, sort, source, source_excludes, source_includes, stats, stored_fields, suggest, suggest_field, suggest_mode, suggest_size, suggest_text, terminate_after, timeout, track_scores, track_total_hits, typed_keys, version)\u001b[0m\n\u001b[0;32m   3768\u001b[0m \u001b[38;5;28;01mif\u001b[39;00m __body \u001b[38;5;129;01mis\u001b[39;00m \u001b[38;5;129;01mnot\u001b[39;00m \u001b[38;5;28;01mNone\u001b[39;00m:\n\u001b[0;32m   3769\u001b[0m     __headers[\u001b[38;5;124m\"\u001b[39m\u001b[38;5;124mcontent-type\u001b[39m\u001b[38;5;124m\"\u001b[39m] \u001b[38;5;241m=\u001b[39m \u001b[38;5;124m\"\u001b[39m\u001b[38;5;124mapplication/json\u001b[39m\u001b[38;5;124m\"\u001b[39m\n\u001b[1;32m-> 3770\u001b[0m \u001b[38;5;28;01mreturn\u001b[39;00m \u001b[38;5;28;43mself\u001b[39;49m\u001b[38;5;241;43m.\u001b[39;49m\u001b[43mperform_request\u001b[49m\u001b[43m(\u001b[49m\u001b[43m  \u001b[49m\u001b[38;5;66;43;03m# type: ignore[return-value]\u001b[39;49;00m\n\u001b[0;32m   3771\u001b[0m \u001b[43m    \u001b[49m\u001b[38;5;124;43m\"\u001b[39;49m\u001b[38;5;124;43mPOST\u001b[39;49m\u001b[38;5;124;43m\"\u001b[39;49m\u001b[43m,\u001b[49m\u001b[43m \u001b[49m\u001b[43m__path\u001b[49m\u001b[43m,\u001b[49m\u001b[43m \u001b[49m\u001b[43mparams\u001b[49m\u001b[38;5;241;43m=\u001b[39;49m\u001b[43m__query\u001b[49m\u001b[43m,\u001b[49m\u001b[43m \u001b[49m\u001b[43mheaders\u001b[49m\u001b[38;5;241;43m=\u001b[39;49m\u001b[43m__headers\u001b[49m\u001b[43m,\u001b[49m\u001b[43m \u001b[49m\u001b[43mbody\u001b[49m\u001b[38;5;241;43m=\u001b[39;49m\u001b[43m__body\u001b[49m\n\u001b[0;32m   3772\u001b[0m \u001b[43m\u001b[49m\u001b[43m)\u001b[49m\n",
      "File \u001b[1;32m~\\Desktop\\INDP3 AIM\\Tebourbi\\Image-Search-Engine---Content-Based\\venv\\lib\\site-packages\\elasticsearch\\_sync\\client\\_base.py:321\u001b[0m, in \u001b[0;36mBaseClient.perform_request\u001b[1;34m(self, method, path, params, headers, body)\u001b[0m\n\u001b[0;32m    318\u001b[0m         \u001b[38;5;28;01mexcept\u001b[39;00m (\u001b[38;5;167;01mValueError\u001b[39;00m, \u001b[38;5;167;01mKeyError\u001b[39;00m, \u001b[38;5;167;01mTypeError\u001b[39;00m):\n\u001b[0;32m    319\u001b[0m             \u001b[38;5;28;01mpass\u001b[39;00m\n\u001b[1;32m--> 321\u001b[0m     \u001b[38;5;28;01mraise\u001b[39;00m HTTP_EXCEPTIONS\u001b[38;5;241m.\u001b[39mget(meta\u001b[38;5;241m.\u001b[39mstatus, ApiError)(\n\u001b[0;32m    322\u001b[0m         message\u001b[38;5;241m=\u001b[39mmessage, meta\u001b[38;5;241m=\u001b[39mmeta, body\u001b[38;5;241m=\u001b[39mresp_body\n\u001b[0;32m    323\u001b[0m     )\n\u001b[0;32m    325\u001b[0m \u001b[38;5;66;03m# 'X-Elastic-Product: Elasticsearch' should be on every 2XX response.\u001b[39;00m\n\u001b[0;32m    326\u001b[0m \u001b[38;5;28;01mif\u001b[39;00m \u001b[38;5;129;01mnot\u001b[39;00m \u001b[38;5;28mself\u001b[39m\u001b[38;5;241m.\u001b[39m_verified_elasticsearch:\n\u001b[0;32m    327\u001b[0m     \u001b[38;5;66;03m# If the header is set we mark the server as verified.\u001b[39;00m\n",
      "\u001b[1;31mBadRequestError\u001b[0m: BadRequestError(400, 'parsing_exception', 'unknown query [hnsw]')"
     ]
    }
   ],
   "source": [
    "result = es.search(index=index, body = body)"
   ]
  }
 ],
 "metadata": {
  "kernelspec": {
   "display_name": "venv",
   "language": "python",
   "name": "venv"
  },
  "language_info": {
   "codemirror_mode": {
    "name": "ipython",
    "version": 3
   },
   "file_extension": ".py",
   "mimetype": "text/x-python",
   "name": "python",
   "nbconvert_exporter": "python",
   "pygments_lexer": "ipython3",
   "version": "3.10.7"
  }
 },
 "nbformat": 4,
 "nbformat_minor": 5
}
